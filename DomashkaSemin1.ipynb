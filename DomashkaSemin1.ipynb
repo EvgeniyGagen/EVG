{
  "cells": [
    {
      "cell_type": "markdown",
      "metadata": {
        "id": "view-in-github",
        "colab_type": "text"
      },
      "source": [
        "<a href=\"https://colab.research.google.com/github/EvgeniyGagen/EVG/blob/main/DomashkaSemin1.ipynb\" target=\"_parent\"><img src=\"https://colab.research.google.com/assets/colab-badge.svg\" alt=\"Open In Colab\"/></a>"
      ]
    },
    {
      "cell_type": "markdown",
      "source": [
        "## Задание 1\n",
        "Оформляйте ноутбук, используя эти советы:\n",
        " * Номер задачи - заголовок 2\n",
        " * Номер подзадачи - заголовок 3\n",
        " * Предоставленные наборы данных оформляйте, как код"
      ],
      "metadata": {
        "id": "eHshoBA_nnQ-"
      }
    },
    {
      "cell_type": "markdown",
      "metadata": {
        "id": "3Y_c4Zm-zw0y"
      },
      "source": [
        "## Задание 2\n",
        "На складе лежат разные фрукты в разном количестве.\n",
        "Нужно написать функцию, которая на вход принимает любое количество названий фруктов и их количество, а возвращает общее количество фруктов на складе"
      ]
    },
    {
      "cell_type": "code",
      "execution_count": null,
      "metadata": {
        "colab": {
          "base_uri": "https://localhost:8080/"
        },
        "id": "V8Pv-3U7zw02",
        "outputId": "c46f1b14-ca8e-476e-b832-0d417c2a6ee4"
      },
      "outputs": [
        {
          "output_type": "stream",
          "name": "stdout",
          "text": [
            "Общее кол-во фруктов: 54\n"
          ]
        }
      ],
      "source": [
        "def sumFruits(**kwargs):\n",
        "    return f'Общее кол-во фруктов: {sum(kwargs.values())}'\n",
        "\n",
        "print(sumFruits(ananas=10, kiwi=12, grape=5, pear=15, apricot=12))"
      ]
    },
    {
      "cell_type": "code",
      "source": [
        "def sumFruits(ananas:int, kiwi:int, grape:int, pear:int, apricot:int):\n",
        "  return ananas + kiwi + grape + pear + apricot\n",
        "print(sumFruits(10, 12, 5, 15, 12))\n",
        "\n",
        "\n",
        "  \n"
      ],
      "metadata": {
        "colab": {
          "base_uri": "https://localhost:8080/"
        },
        "id": "Qpl0gArnAZOZ",
        "outputId": "e1da25a7-0003-4e41-c324-410fa0f0ef74"
      },
      "execution_count": 6,
      "outputs": [
        {
          "output_type": "stream",
          "name": "stdout",
          "text": [
            "54\n"
          ]
        }
      ]
    },
    {
      "cell_type": "markdown",
      "source": [],
      "metadata": {
        "id": "5qbXOd5zEEok"
      }
    },
    {
      "cell_type": "markdown",
      "metadata": {
        "id": "xr69YFySzw05"
      },
      "source": [
        "## Задание 3\n",
        "Дан список с затратами на рекламу. Но в данных есть ошибки, некоторые затраты имеют отрицательную величину. Удалите такие значения из списка и посчитайте суммарные затраты\n",
        "`[100, 125, -90, 345, 655, -1, 0, 200]`\n",
        "\n",
        "Необходимо использовать list comprehensions"
      ]
    },
    {
      "cell_type": "code",
      "source": [
        "orig_prices = [100, 125, -90, 345, 655, -1, 0, 200]"
      ],
      "metadata": {
        "id": "4FgWUj8s-hnk"
      },
      "execution_count": 2,
      "outputs": []
    },
    {
      "cell_type": "code",
      "execution_count": 3,
      "metadata": {
        "colab": {
          "base_uri": "https://localhost:8080/"
        },
        "id": "bmJg3BeAzw06",
        "outputId": "7697380a-b2f1-40b7-f58a-9ce68bce9947"
      },
      "outputs": [
        {
          "output_type": "stream",
          "name": "stdout",
          "text": [
            "Правильные затраты: [100, 125, 345, 655, 200]\n",
            "Суммарные затраты: 1425\n"
          ]
        }
      ],
      "source": [
        "def convertPrices(orig_prices):\n",
        "    orig_pricesNew = []\n",
        "    for i in orig_prices:\n",
        "        if i > 0:\n",
        "            orig_pricesNew.append(i)\n",
        "    return orig_pricesNew       \n",
        "\n",
        "print(f'Правильные затраты: {convertPrices(orig_prices)}')\n",
        "print(f'Суммарные затраты: {sum(convertPrices(orig_prices))}')\n"
      ]
    },
    {
      "cell_type": "code",
      "source": [
        "def convertPrices(orig_prices):\n",
        "    return [i for i in orig_prices if i > 0]\n",
        "\n",
        "orig_pricesNew = convertPrices(orig_prices)\n",
        "print(f'Правильные затраты: {orig_pricesNew}')\n",
        "print(f'Суммарные затраты: {sum(orig_pricesNew)}')\n"
      ],
      "metadata": {
        "colab": {
          "base_uri": "https://localhost:8080/"
        },
        "id": "OuWo72U04Sn4",
        "outputId": "2a797d13-03a4-44c2-bf40-30adfca78136"
      },
      "execution_count": 4,
      "outputs": [
        {
          "output_type": "stream",
          "name": "stdout",
          "text": [
            "Правильные затраты: [100, 125, 345, 655, 200]\n",
            "Суммарные затраты: 1425\n"
          ]
        }
      ]
    },
    {
      "cell_type": "markdown",
      "source": [
        "## Задание 4\n",
        "\n",
        "Даны два списка:\n",
        "\n",
        "Дата покупки\n",
        "`['2021-09-14', '2021-12-15', '2021-09-08', '2021-12-05', '2021-10-09', '2021-09-30', '2021-12-22', '2021-11-29', '2021-12-24', '2021-11-26', '2021-10-27', '2021-12-18', '2021-11-09', '2021-11-23', '2021-09-27', '2021-10-02', '2021-12-27', '2021-09-20', '2021-12-13', '2021-11-01', '2021-11-09', '2021-12-06', '2021-12-08', '2021-10-09', '2021-10-31', '2021-09-30', '2021-11-09', '2021-12-13', '2021-10-26', '2021-12-09']`\n",
        "\n",
        "Суммы покупок по датам\n",
        "`[1270, 8413, 9028, 3703, 5739, 4095, 295, 4944, 5723, 3701, 4471, 651, 7037, 4274, 6275, 4988, 6930, 2971, 6592, 2004, 2822, 519, 3406, 2732, 5015, 2008, 316, 6333, 5700, 2887]`\n",
        "\n",
        "### 4.1\n",
        "Найдите, какая выручка у компании в ноябре.\n",
        "Используйте list comprehensions"
      ],
      "metadata": {
        "id": "Y-x62weX71Ur"
      }
    },
    {
      "cell_type": "code",
      "source": [
        "date_In = ['2021-09-14', '2021-12-15', '2021-09-08', '2021-12-05', '2021-10-09', '2021-09-30', '2021-12-22', '2021-11-29', '2021-12-24', '2021-11-26', '2021-10-27', '2021-12-18', '2021-11-09', '2021-11-23', '2021-09-27', \n",
        "        '2021-10-02', '2021-12-27', '2021-09-20', '2021-12-13', '2021-11-01', '2021-11-09', '2021-12-06', '2021-12-08', '2021-10-09', '2021-10-31', '2021-09-30', '2021-11-09', '2021-12-13', '2021-10-26', '2021-12-09']\n",
        "sum_In = [1270, 8413, 9028, 3703, 5739, 4095, 295, 4944, 5723, 3701, 4471, 651, 7037, 4274, 6275, 4988, 6930, 2971, 6592, 2004, 2822, 519, 3406, 2732, 5015, 2008, 316, 6333, 5700, 2887]"
      ],
      "metadata": {
        "id": "qNfAqeJw8pgt"
      },
      "execution_count": 5,
      "outputs": []
    },
    {
      "cell_type": "code",
      "source": [
        "def november_In(dIn, sIn):\n",
        "    s_InNew = []\n",
        "    for i in range(len(dIn)-1):\n",
        "        if '-11-' in dIn[i]:\n",
        "            s_InNew.append(sIn[i])\n",
        "    return s_InNew\n",
        "\n",
        "print(f'Покупоки за ноябрь: {november_In(date_In, sum_In)}')\n",
        "print(f'Вся Выручка в ноябре: {sum(november_In(date_In, sum_In))}')"
      ],
      "metadata": {
        "colab": {
          "base_uri": "https://localhost:8080/"
        },
        "id": "Q72Ra0EhAl5m",
        "outputId": "29dd6e98-57fd-48da-ab42-ce413843b708"
      },
      "execution_count": 6,
      "outputs": [
        {
          "output_type": "stream",
          "name": "stdout",
          "text": [
            "Покупоки за ноябрь: [4944, 3701, 7037, 4274, 2004, 2822, 316]\n",
            "Вся Выручка в ноябре: 25098\n"
          ]
        }
      ]
    },
    {
      "cell_type": "code",
      "source": [
        "def november_In(dIn, sIn):\n",
        "    return [sIn[i] for i in range(len(dIn)-1) if '-11-' in dIn[i]]\n",
        "\n",
        "print(f'Покупоки за ноябрь: {november_In(date_In, sum_In)}')\n",
        "print(f'Вся Выручка в ноябре: {sum(november_In(date_In, sum_In))}')"
      ],
      "metadata": {
        "colab": {
          "base_uri": "https://localhost:8080/"
        },
        "id": "T1rHC-n7UZor",
        "outputId": "aa675735-42f3-4c1c-9ba0-18e50f6daded"
      },
      "execution_count": 7,
      "outputs": [
        {
          "output_type": "stream",
          "name": "stdout",
          "text": [
            "Покупоки за ноябрь: [4944, 3701, 7037, 4274, 2004, 2822, 316]\n",
            "Вся Выручка в ноябре: 25098\n"
          ]
        }
      ]
    },
    {
      "cell_type": "markdown",
      "source": [
        "### 4.2\n",
        "Найдите выручку компании в зависимости от месяца. Для этого напишите функцию, которая на вход принимает список с датами и список с выручкой, а на выходе словарь, где ключи - это месяцы, а значения - это выручка. Необходимо использовать аннотирование типов."
      ],
      "metadata": {
        "id": "GScDI04Ybq9f"
      }
    },
    {
      "cell_type": "code",
      "source": [
        "def come_In_Month(dIncome, sIncome) -> dict:\n",
        "    \n",
        "    dictcome_In_Month = {}\n",
        "    \n",
        "    for i in range(len(dIncome)):\n",
        "        \n",
        "        if dIncome[i].split('-')[1] in dictcome_In_Month.keys():\n",
        "            dictcome_In_Month[dIncome[i].split('-')[1]] += sIncome[i]\n",
        "        else:\n",
        "            dictcome_In_Month[dIncome[i].split('-')[1]] = sIncome[i]\n",
        "            \n",
        "    return dict(sorted(dictcome_In_Month.items()))\n",
        "\n",
        "print(come_In_Month(date_In, sum_In))"
      ],
      "metadata": {
        "colab": {
          "base_uri": "https://localhost:8080/"
        },
        "id": "wQkG2NyecHVt",
        "outputId": "47369dbd-8399-42d8-f63f-8cf8548907b2"
      },
      "execution_count": 8,
      "outputs": [
        {
          "output_type": "stream",
          "name": "stdout",
          "text": [
            "{'09': 25647, '10': 28645, '11': 25098, '12': 45452}\n"
          ]
        }
      ]
    }
  ],
  "metadata": {
    "kernelspec": {
      "display_name": "Python 3.8.10 64-bit",
      "language": "python",
      "name": "python3"
    },
    "language_info": {
      "name": "python",
      "version": "3.8.10"
    },
    "orig_nbformat": 4,
    "vscode": {
      "interpreter": {
        "hash": "7a96227b8776e9e8b92184c6bd2959aa06e1e0881b6901ba05538acbe1b6a7a4"
      }
    },
    "colab": {
      "provenance": [],
      "include_colab_link": true
    }
  },
  "nbformat": 4,
  "nbformat_minor": 0
}